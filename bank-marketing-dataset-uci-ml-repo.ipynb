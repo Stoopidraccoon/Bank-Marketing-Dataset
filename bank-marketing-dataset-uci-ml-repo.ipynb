{
 "cells": [
  {
   "cell_type": "markdown",
   "id": "64f5573b",
   "metadata": {
    "_cell_guid": "b1076dfc-b9ad-4769-8c92-a6c4dae69d19",
    "_uuid": "8f2839f25d086af736a60e9eeb907d3b93b6e0e5",
    "papermill": {
     "duration": 0.004058,
     "end_time": "2025-07-30T13:55:33.798551",
     "exception": false,
     "start_time": "2025-07-30T13:55:33.794493",
     "status": "completed"
    },
    "tags": []
   },
   "source": [
    "**Bank Marketing Dataset**\n",
    "\n",
    "**Introduction and Problem Statement**\n",
    "Banks regularly roll out personal loan offers to their customers. However, not every customer accepts the offer, and blindly marketing to everyone is inefficient and costly. The goal of this project is to predict which customers are likely to accept a personal loan offer based on various demographic and behavioral features. Accurate predictions help optimize marketing campaigns and improve customer targeting, leading to better conversion rates and reduced marketing costs.\n",
    "\n",
    "**Dataset Understanding and Description**\n",
    "This project uses the Bank Marketing Dataset from the UCI Machine Learning Repository. The dataset contains information about customers contacted during a direct marketing campaign. The goal is to predict whether the client will accept a personal loan offer.\n",
    "\n",
    "**Key features include**\n",
    "\n",
    " - Age – Customer’s age\n",
    "\n",
    " - Job – Type of job (e.g., admin, technician, management)\n",
    "\n",
    " - Marital Status – Married, single, or divorced\n",
    "\n",
    " - Education – Basic, high school, tertiary, unknown\n",
    "\n",
    " - Default – If the customer has credit in default\n",
    "\n",
    " - Housing – Whether the customer has a housing loan\n",
    "\n",
    " - Loan – Whether the customer has a personal loan\n",
    "\n",
    " - Contact – Contact communication type\n",
    "\n",
    " - Duration – Duration of last contact\n",
    "\n",
    " - Campaign – Number of contacts during the campaign\n",
    "\n",
    " - Poutcome – Outcome of the previous marketing campaign\n",
    "\n",
    "- Deposit – Target variable (whether the customer accepted the offer)\n",
    "\n",
    "**Data was cleaned and explored in Power BI.**"
   ]
  },
  {
   "cell_type": "code",
   "execution_count": 1,
   "id": "6f0aea34",
   "metadata": {
    "execution": {
     "iopub.execute_input": "2025-07-30T13:55:33.806898Z",
     "iopub.status.busy": "2025-07-30T13:55:33.806498Z",
     "iopub.status.idle": "2025-07-30T13:55:38.507349Z",
     "shell.execute_reply": "2025-07-30T13:55:38.506495Z"
    },
    "papermill": {
     "duration": 4.707251,
     "end_time": "2025-07-30T13:55:38.509314",
     "exception": false,
     "start_time": "2025-07-30T13:55:33.802063",
     "status": "completed"
    },
    "tags": []
   },
   "outputs": [],
   "source": [
    "# Import libraries\n",
    "import pandas as pd\n",
    "import numpy as np\n",
    "from sklearn.model_selection import train_test_split\n",
    "from sklearn.ensemble import RandomForestClassifier\n",
    "from sklearn.metrics import accuracy_score, classification_report, confusion_matrix\n",
    "import matplotlib.pyplot as plt\n",
    "import seaborn as sns"
   ]
  },
  {
   "cell_type": "code",
   "execution_count": 2,
   "id": "80527c13",
   "metadata": {
    "execution": {
     "iopub.execute_input": "2025-07-30T13:55:38.517624Z",
     "iopub.status.busy": "2025-07-30T13:55:38.517220Z",
     "iopub.status.idle": "2025-07-30T13:55:38.598310Z",
     "shell.execute_reply": "2025-07-30T13:55:38.597358Z"
    },
    "papermill": {
     "duration": 0.086608,
     "end_time": "2025-07-30T13:55:38.599741",
     "exception": false,
     "start_time": "2025-07-30T13:55:38.513133",
     "status": "completed"
    },
    "tags": []
   },
   "outputs": [
    {
     "data": {
      "text/html": [
       "<div>\n",
       "<style scoped>\n",
       "    .dataframe tbody tr th:only-of-type {\n",
       "        vertical-align: middle;\n",
       "    }\n",
       "\n",
       "    .dataframe tbody tr th {\n",
       "        vertical-align: top;\n",
       "    }\n",
       "\n",
       "    .dataframe thead th {\n",
       "        text-align: right;\n",
       "    }\n",
       "</style>\n",
       "<table border=\"1\" class=\"dataframe\">\n",
       "  <thead>\n",
       "    <tr style=\"text-align: right;\">\n",
       "      <th></th>\n",
       "      <th>age</th>\n",
       "      <th>balance</th>\n",
       "      <th>campaign</th>\n",
       "      <th>default</th>\n",
       "      <th>housing</th>\n",
       "      <th>education</th>\n",
       "      <th>job</th>\n",
       "      <th>loan</th>\n",
       "      <th>marital</th>\n",
       "      <th>pdays</th>\n",
       "      <th>deposit</th>\n",
       "      <th>duration</th>\n",
       "      <th>previous</th>\n",
       "      <th>poutcome</th>\n",
       "    </tr>\n",
       "  </thead>\n",
       "  <tbody>\n",
       "    <tr>\n",
       "      <th>0</th>\n",
       "      <td>18</td>\n",
       "      <td>3</td>\n",
       "      <td>2</td>\n",
       "      <td>no</td>\n",
       "      <td>no</td>\n",
       "      <td>unknown</td>\n",
       "      <td>student</td>\n",
       "      <td>no</td>\n",
       "      <td>single</td>\n",
       "      <td>-1</td>\n",
       "      <td>yes</td>\n",
       "      <td>130</td>\n",
       "      <td>0</td>\n",
       "      <td>unknown</td>\n",
       "    </tr>\n",
       "    <tr>\n",
       "      <th>1</th>\n",
       "      <td>18</td>\n",
       "      <td>5</td>\n",
       "      <td>2</td>\n",
       "      <td>no</td>\n",
       "      <td>no</td>\n",
       "      <td>secondary</td>\n",
       "      <td>student</td>\n",
       "      <td>no</td>\n",
       "      <td>single</td>\n",
       "      <td>-1</td>\n",
       "      <td>no</td>\n",
       "      <td>143</td>\n",
       "      <td>0</td>\n",
       "      <td>unknown</td>\n",
       "    </tr>\n",
       "    <tr>\n",
       "      <th>2</th>\n",
       "      <td>18</td>\n",
       "      <td>108</td>\n",
       "      <td>1</td>\n",
       "      <td>no</td>\n",
       "      <td>no</td>\n",
       "      <td>unknown</td>\n",
       "      <td>student</td>\n",
       "      <td>no</td>\n",
       "      <td>single</td>\n",
       "      <td>-1</td>\n",
       "      <td>yes</td>\n",
       "      <td>167</td>\n",
       "      <td>0</td>\n",
       "      <td>unknown</td>\n",
       "    </tr>\n",
       "    <tr>\n",
       "      <th>3</th>\n",
       "      <td>18</td>\n",
       "      <td>108</td>\n",
       "      <td>1</td>\n",
       "      <td>no</td>\n",
       "      <td>no</td>\n",
       "      <td>unknown</td>\n",
       "      <td>student</td>\n",
       "      <td>no</td>\n",
       "      <td>single</td>\n",
       "      <td>-1</td>\n",
       "      <td>yes</td>\n",
       "      <td>169</td>\n",
       "      <td>0</td>\n",
       "      <td>unknown</td>\n",
       "    </tr>\n",
       "    <tr>\n",
       "      <th>4</th>\n",
       "      <td>18</td>\n",
       "      <td>108</td>\n",
       "      <td>1</td>\n",
       "      <td>no</td>\n",
       "      <td>no</td>\n",
       "      <td>unknown</td>\n",
       "      <td>student</td>\n",
       "      <td>no</td>\n",
       "      <td>single</td>\n",
       "      <td>183</td>\n",
       "      <td>yes</td>\n",
       "      <td>92</td>\n",
       "      <td>1</td>\n",
       "      <td>success</td>\n",
       "    </tr>\n",
       "  </tbody>\n",
       "</table>\n",
       "</div>"
      ],
      "text/plain": [
       "   age  balance  campaign default housing  education      job loan marital  \\\n",
       "0   18        3         2      no      no    unknown  student   no  single   \n",
       "1   18        5         2      no      no  secondary  student   no  single   \n",
       "2   18      108         1      no      no    unknown  student   no  single   \n",
       "3   18      108         1      no      no    unknown  student   no  single   \n",
       "4   18      108         1      no      no    unknown  student   no  single   \n",
       "\n",
       "   pdays deposit  duration  previous poutcome  \n",
       "0     -1     yes       130         0  unknown  \n",
       "1     -1      no       143         0  unknown  \n",
       "2     -1     yes       167         0  unknown  \n",
       "3     -1     yes       169         0  unknown  \n",
       "4    183     yes        92         1  success  "
      ]
     },
     "execution_count": 2,
     "metadata": {},
     "output_type": "execute_result"
    }
   ],
   "source": [
    "# Load Dataset\n",
    "df = pd.read_csv('/kaggle/input/bank-marketing-dataset/Bank Marketing Dataset.csv')\n",
    "df.head()"
   ]
  },
  {
   "cell_type": "code",
   "execution_count": 3,
   "id": "61e1fd0d",
   "metadata": {
    "execution": {
     "iopub.execute_input": "2025-07-30T13:55:38.608214Z",
     "iopub.status.busy": "2025-07-30T13:55:38.607853Z",
     "iopub.status.idle": "2025-07-30T13:55:38.634736Z",
     "shell.execute_reply": "2025-07-30T13:55:38.633761Z"
    },
    "papermill": {
     "duration": 0.033222,
     "end_time": "2025-07-30T13:55:38.636633",
     "exception": false,
     "start_time": "2025-07-30T13:55:38.603411",
     "status": "completed"
    },
    "tags": []
   },
   "outputs": [],
   "source": [
    "# Encode categorical variables \n",
    "df_encoded = pd.get_dummies(df, drop_first=True)"
   ]
  },
  {
   "cell_type": "code",
   "execution_count": 4,
   "id": "003e1a2d",
   "metadata": {
    "execution": {
     "iopub.execute_input": "2025-07-30T13:55:38.645203Z",
     "iopub.status.busy": "2025-07-30T13:55:38.644826Z",
     "iopub.status.idle": "2025-07-30T13:55:38.653275Z",
     "shell.execute_reply": "2025-07-30T13:55:38.652319Z"
    },
    "papermill": {
     "duration": 0.014428,
     "end_time": "2025-07-30T13:55:38.654822",
     "exception": false,
     "start_time": "2025-07-30T13:55:38.640394",
     "status": "completed"
    },
    "tags": []
   },
   "outputs": [],
   "source": [
    "# Split features and target\n",
    "X = df_encoded.drop('deposit_yes', axis=1)  # target column after encoding\n",
    "y = df_encoded['deposit_yes']\n"
   ]
  },
  {
   "cell_type": "code",
   "execution_count": 5,
   "id": "c34dcd2d",
   "metadata": {
    "execution": {
     "iopub.execute_input": "2025-07-30T13:55:38.663121Z",
     "iopub.status.busy": "2025-07-30T13:55:38.662763Z",
     "iopub.status.idle": "2025-07-30T13:55:38.675604Z",
     "shell.execute_reply": "2025-07-30T13:55:38.674806Z"
    },
    "papermill": {
     "duration": 0.018776,
     "end_time": "2025-07-30T13:55:38.677284",
     "exception": false,
     "start_time": "2025-07-30T13:55:38.658508",
     "status": "completed"
    },
    "tags": []
   },
   "outputs": [],
   "source": [
    "# Initial Train-test split\n",
    "X_train, X_test, y_train, y_test = train_test_split(X, y, test_size=0.2, random_state=42)\n"
   ]
  },
  {
   "cell_type": "code",
   "execution_count": 6,
   "id": "d806ce4e",
   "metadata": {
    "execution": {
     "iopub.execute_input": "2025-07-30T13:55:38.685642Z",
     "iopub.status.busy": "2025-07-30T13:55:38.685333Z",
     "iopub.status.idle": "2025-07-30T13:55:39.875983Z",
     "shell.execute_reply": "2025-07-30T13:55:39.875075Z"
    },
    "papermill": {
     "duration": 1.196713,
     "end_time": "2025-07-30T13:55:39.877641",
     "exception": false,
     "start_time": "2025-07-30T13:55:38.680928",
     "status": "completed"
    },
    "tags": []
   },
   "outputs": [
    {
     "data": {
      "text/html": [
       "<style>#sk-container-id-1 {color: black;background-color: white;}#sk-container-id-1 pre{padding: 0;}#sk-container-id-1 div.sk-toggleable {background-color: white;}#sk-container-id-1 label.sk-toggleable__label {cursor: pointer;display: block;width: 100%;margin-bottom: 0;padding: 0.3em;box-sizing: border-box;text-align: center;}#sk-container-id-1 label.sk-toggleable__label-arrow:before {content: \"▸\";float: left;margin-right: 0.25em;color: #696969;}#sk-container-id-1 label.sk-toggleable__label-arrow:hover:before {color: black;}#sk-container-id-1 div.sk-estimator:hover label.sk-toggleable__label-arrow:before {color: black;}#sk-container-id-1 div.sk-toggleable__content {max-height: 0;max-width: 0;overflow: hidden;text-align: left;background-color: #f0f8ff;}#sk-container-id-1 div.sk-toggleable__content pre {margin: 0.2em;color: black;border-radius: 0.25em;background-color: #f0f8ff;}#sk-container-id-1 input.sk-toggleable__control:checked~div.sk-toggleable__content {max-height: 200px;max-width: 100%;overflow: auto;}#sk-container-id-1 input.sk-toggleable__control:checked~label.sk-toggleable__label-arrow:before {content: \"▾\";}#sk-container-id-1 div.sk-estimator input.sk-toggleable__control:checked~label.sk-toggleable__label {background-color: #d4ebff;}#sk-container-id-1 div.sk-label input.sk-toggleable__control:checked~label.sk-toggleable__label {background-color: #d4ebff;}#sk-container-id-1 input.sk-hidden--visually {border: 0;clip: rect(1px 1px 1px 1px);clip: rect(1px, 1px, 1px, 1px);height: 1px;margin: -1px;overflow: hidden;padding: 0;position: absolute;width: 1px;}#sk-container-id-1 div.sk-estimator {font-family: monospace;background-color: #f0f8ff;border: 1px dotted black;border-radius: 0.25em;box-sizing: border-box;margin-bottom: 0.5em;}#sk-container-id-1 div.sk-estimator:hover {background-color: #d4ebff;}#sk-container-id-1 div.sk-parallel-item::after {content: \"\";width: 100%;border-bottom: 1px solid gray;flex-grow: 1;}#sk-container-id-1 div.sk-label:hover label.sk-toggleable__label {background-color: #d4ebff;}#sk-container-id-1 div.sk-serial::before {content: \"\";position: absolute;border-left: 1px solid gray;box-sizing: border-box;top: 0;bottom: 0;left: 50%;z-index: 0;}#sk-container-id-1 div.sk-serial {display: flex;flex-direction: column;align-items: center;background-color: white;padding-right: 0.2em;padding-left: 0.2em;position: relative;}#sk-container-id-1 div.sk-item {position: relative;z-index: 1;}#sk-container-id-1 div.sk-parallel {display: flex;align-items: stretch;justify-content: center;background-color: white;position: relative;}#sk-container-id-1 div.sk-item::before, #sk-container-id-1 div.sk-parallel-item::before {content: \"\";position: absolute;border-left: 1px solid gray;box-sizing: border-box;top: 0;bottom: 0;left: 50%;z-index: -1;}#sk-container-id-1 div.sk-parallel-item {display: flex;flex-direction: column;z-index: 1;position: relative;background-color: white;}#sk-container-id-1 div.sk-parallel-item:first-child::after {align-self: flex-end;width: 50%;}#sk-container-id-1 div.sk-parallel-item:last-child::after {align-self: flex-start;width: 50%;}#sk-container-id-1 div.sk-parallel-item:only-child::after {width: 0;}#sk-container-id-1 div.sk-dashed-wrapped {border: 1px dashed gray;margin: 0 0.4em 0.5em 0.4em;box-sizing: border-box;padding-bottom: 0.4em;background-color: white;}#sk-container-id-1 div.sk-label label {font-family: monospace;font-weight: bold;display: inline-block;line-height: 1.2em;}#sk-container-id-1 div.sk-label-container {text-align: center;}#sk-container-id-1 div.sk-container {/* jupyter's `normalize.less` sets `[hidden] { display: none; }` but bootstrap.min.css set `[hidden] { display: none !important; }` so we also need the `!important` here to be able to override the default hidden behavior on the sphinx rendered scikit-learn.org. See: https://github.com/scikit-learn/scikit-learn/issues/21755 */display: inline-block !important;position: relative;}#sk-container-id-1 div.sk-text-repr-fallback {display: none;}</style><div id=\"sk-container-id-1\" class=\"sk-top-container\"><div class=\"sk-text-repr-fallback\"><pre>RandomForestClassifier(random_state=42)</pre><b>In a Jupyter environment, please rerun this cell to show the HTML representation or trust the notebook. <br />On GitHub, the HTML representation is unable to render, please try loading this page with nbviewer.org.</b></div><div class=\"sk-container\" hidden><div class=\"sk-item\"><div class=\"sk-estimator sk-toggleable\"><input class=\"sk-toggleable__control sk-hidden--visually\" id=\"sk-estimator-id-1\" type=\"checkbox\" checked><label for=\"sk-estimator-id-1\" class=\"sk-toggleable__label sk-toggleable__label-arrow\">RandomForestClassifier</label><div class=\"sk-toggleable__content\"><pre>RandomForestClassifier(random_state=42)</pre></div></div></div></div></div>"
      ],
      "text/plain": [
       "RandomForestClassifier(random_state=42)"
      ]
     },
     "execution_count": 6,
     "metadata": {},
     "output_type": "execute_result"
    }
   ],
   "source": [
    "# Train Random Forest model\n",
    "rf_model = RandomForestClassifier(n_estimators=100, random_state=42)\n",
    "rf_model.fit(X_train, y_train)"
   ]
  },
  {
   "cell_type": "code",
   "execution_count": 7,
   "id": "a41205f3",
   "metadata": {
    "execution": {
     "iopub.execute_input": "2025-07-30T13:55:39.887158Z",
     "iopub.status.busy": "2025-07-30T13:55:39.886172Z",
     "iopub.status.idle": "2025-07-30T13:55:39.900413Z",
     "shell.execute_reply": "2025-07-30T13:55:39.899248Z"
    },
    "papermill": {
     "duration": 0.020874,
     "end_time": "2025-07-30T13:55:39.902393",
     "exception": false,
     "start_time": "2025-07-30T13:55:39.881519",
     "status": "completed"
    },
    "tags": []
   },
   "outputs": [],
   "source": [
    "# Get feature importances\n",
    "importances = rf_model.feature_importances_\n",
    "features = X_train.columns\n"
   ]
  },
  {
   "cell_type": "code",
   "execution_count": 8,
   "id": "b2636677",
   "metadata": {
    "execution": {
     "iopub.execute_input": "2025-07-30T13:55:39.912952Z",
     "iopub.status.busy": "2025-07-30T13:55:39.912624Z",
     "iopub.status.idle": "2025-07-30T13:55:39.919932Z",
     "shell.execute_reply": "2025-07-30T13:55:39.919105Z"
    },
    "papermill": {
     "duration": 0.013635,
     "end_time": "2025-07-30T13:55:39.921602",
     "exception": false,
     "start_time": "2025-07-30T13:55:39.907967",
     "status": "completed"
    },
    "tags": []
   },
   "outputs": [],
   "source": [
    "# Create a DataFrame for feature importances\n",
    "feat_imp = pd.DataFrame({'Feature': features, 'Importance': importances})\n",
    "feat_imp = feat_imp.sort_values(by='Importance', ascending=False)\n"
   ]
  },
  {
   "cell_type": "code",
   "execution_count": 9,
   "id": "05936a70",
   "metadata": {
    "execution": {
     "iopub.execute_input": "2025-07-30T13:55:39.930444Z",
     "iopub.status.busy": "2025-07-30T13:55:39.929815Z",
     "iopub.status.idle": "2025-07-30T13:55:40.453982Z",
     "shell.execute_reply": "2025-07-30T13:55:40.453002Z"
    },
    "papermill": {
     "duration": 0.530876,
     "end_time": "2025-07-30T13:55:40.456206",
     "exception": false,
     "start_time": "2025-07-30T13:55:39.925330",
     "status": "completed"
    },
    "tags": []
   },
   "outputs": [
    {
     "data": {
      "image/png": "[encoded data removed]",
      "text/plain": [
       "<Figure size 1000x600 with 1 Axes>"
      ]
     },
     "metadata": {},
     "output_type": "display_data"
    }
   ],
   "source": [
    "# Plot feature importances\n",
    "plt.figure(figsize=(10, 6))\n",
    "sns.barplot(x='Importance', y='Feature', data=feat_imp)\n",
    "plt.title('Feature Importance (Random Forest)')\n",
    "plt.tight_layout()\n",
    "plt.show()"
   ]
  },
  {
   "cell_type": "code",
   "execution_count": 10,
   "id": "58c68003",
   "metadata": {
    "execution": {
     "iopub.execute_input": "2025-07-30T13:55:40.468526Z",
     "iopub.status.busy": "2025-07-30T13:55:40.468234Z",
     "iopub.status.idle": "2025-07-30T13:55:40.474458Z",
     "shell.execute_reply": "2025-07-30T13:55:40.473493Z"
    },
    "papermill": {
     "duration": 0.013404,
     "end_time": "2025-07-30T13:55:40.475820",
     "exception": false,
     "start_time": "2025-07-30T13:55:40.462416",
     "status": "completed"
    },
    "tags": []
   },
   "outputs": [
    {
     "name": "stdout",
     "output_type": "stream",
     "text": [
      "Dropping: ['job_services', 'job_retired', 'job_student', 'job_self-employed', 'education_unknown', 'job_unemployed', 'job_entrepreneur', 'job_housemaid', 'poutcome_other', 'default_yes', 'job_unknown']\n"
     ]
    }
   ],
   "source": [
    "# Drop features with low importance (less than 0.01)\n",
    "low_impact_features = feat_imp[feat_imp['Importance'] < 0.01]['Feature'].tolist()\n",
    "print(\"Dropping:\", low_impact_features)\n"
   ]
  },
  {
   "cell_type": "code",
   "execution_count": 11,
   "id": "3d178f43",
   "metadata": {
    "execution": {
     "iopub.execute_input": "2025-07-30T13:55:40.486985Z",
     "iopub.status.busy": "2025-07-30T13:55:40.486685Z",
     "iopub.status.idle": "2025-07-30T13:55:40.492694Z",
     "shell.execute_reply": "2025-07-30T13:55:40.491974Z"
    },
    "papermill": {
     "duration": 0.013252,
     "end_time": "2025-07-30T13:55:40.494120",
     "exception": false,
     "start_time": "2025-07-30T13:55:40.480868",
     "status": "completed"
    },
    "tags": []
   },
   "outputs": [],
   "source": [
    "# Drop low importance features from X before splitting again\n",
    "X_reduced = X.drop(columns=low_impact_features)\n"
   ]
  },
  {
   "cell_type": "code",
   "execution_count": 12,
   "id": "502e17a6",
   "metadata": {
    "execution": {
     "iopub.execute_input": "2025-07-30T13:55:40.505147Z",
     "iopub.status.busy": "2025-07-30T13:55:40.504811Z",
     "iopub.status.idle": "2025-07-30T13:55:40.513244Z",
     "shell.execute_reply": "2025-07-30T13:55:40.512268Z"
    },
    "papermill": {
     "duration": 0.015574,
     "end_time": "2025-07-30T13:55:40.514762",
     "exception": false,
     "start_time": "2025-07-30T13:55:40.499188",
     "status": "completed"
    },
    "tags": []
   },
   "outputs": [],
   "source": [
    "# New train-test split with reduced features\n",
    "X_train, X_test, y_train, y_test = train_test_split(X_reduced, y, test_size=0.2, random_state=42)\n"
   ]
  },
  {
   "cell_type": "code",
   "execution_count": 13,
   "id": "3beb8fca",
   "metadata": {
    "execution": {
     "iopub.execute_input": "2025-07-30T13:55:40.526394Z",
     "iopub.status.busy": "2025-07-30T13:55:40.525494Z",
     "iopub.status.idle": "2025-07-30T13:55:42.258426Z",
     "shell.execute_reply": "2025-07-30T13:55:42.257582Z"
    },
    "papermill": {
     "duration": 1.740254,
     "end_time": "2025-07-30T13:55:42.259962",
     "exception": false,
     "start_time": "2025-07-30T13:55:40.519708",
     "status": "completed"
    },
    "tags": []
   },
   "outputs": [
    {
     "data": {
      "text/html": [
       "<style>#sk-container-id-2 {color: black;background-color: white;}#sk-container-id-2 pre{padding: 0;}#sk-container-id-2 div.sk-toggleable {background-color: white;}#sk-container-id-2 label.sk-toggleable__label {cursor: pointer;display: block;width: 100%;margin-bottom: 0;padding: 0.3em;box-sizing: border-box;text-align: center;}#sk-container-id-2 label.sk-toggleable__label-arrow:before {content: \"▸\";float: left;margin-right: 0.25em;color: #696969;}#sk-container-id-2 label.sk-toggleable__label-arrow:hover:before {color: black;}#sk-container-id-2 div.sk-estimator:hover label.sk-toggleable__label-arrow:before {color: black;}#sk-container-id-2 div.sk-toggleable__content {max-height: 0;max-width: 0;overflow: hidden;text-align: left;background-color: #f0f8ff;}#sk-container-id-2 div.sk-toggleable__content pre {margin: 0.2em;color: black;border-radius: 0.25em;background-color: #f0f8ff;}#sk-container-id-2 input.sk-toggleable__control:checked~div.sk-toggleable__content {max-height: 200px;max-width: 100%;overflow: auto;}#sk-container-id-2 input.sk-toggleable__control:checked~label.sk-toggleable__label-arrow:before {content: \"▾\";}#sk-container-id-2 div.sk-estimator input.sk-toggleable__control:checked~label.sk-toggleable__label {background-color: #d4ebff;}#sk-container-id-2 div.sk-label input.sk-toggleable__control:checked~label.sk-toggleable__label {background-color: #d4ebff;}#sk-container-id-2 input.sk-hidden--visually {border: 0;clip: rect(1px 1px 1px 1px);clip: rect(1px, 1px, 1px, 1px);height: 1px;margin: -1px;overflow: hidden;padding: 0;position: absolute;width: 1px;}#sk-container-id-2 div.sk-estimator {font-family: monospace;background-color: #f0f8ff;border: 1px dotted black;border-radius: 0.25em;box-sizing: border-box;margin-bottom: 0.5em;}#sk-container-id-2 div.sk-estimator:hover {background-color: #d4ebff;}#sk-container-id-2 div.sk-parallel-item::after {content: \"\";width: 100%;border-bottom: 1px solid gray;flex-grow: 1;}#sk-container-id-2 div.sk-label:hover label.sk-toggleable__label {background-color: #d4ebff;}#sk-container-id-2 div.sk-serial::before {content: \"\";position: absolute;border-left: 1px solid gray;box-sizing: border-box;top: 0;bottom: 0;left: 50%;z-index: 0;}#sk-container-id-2 div.sk-serial {display: flex;flex-direction: column;align-items: center;background-color: white;padding-right: 0.2em;padding-left: 0.2em;position: relative;}#sk-container-id-2 div.sk-item {position: relative;z-index: 1;}#sk-container-id-2 div.sk-parallel {display: flex;align-items: stretch;justify-content: center;background-color: white;position: relative;}#sk-container-id-2 div.sk-item::before, #sk-container-id-2 div.sk-parallel-item::before {content: \"\";position: absolute;border-left: 1px solid gray;box-sizing: border-box;top: 0;bottom: 0;left: 50%;z-index: -1;}#sk-container-id-2 div.sk-parallel-item {display: flex;flex-direction: column;z-index: 1;position: relative;background-color: white;}#sk-container-id-2 div.sk-parallel-item:first-child::after {align-self: flex-end;width: 50%;}#sk-container-id-2 div.sk-parallel-item:last-child::after {align-self: flex-start;width: 50%;}#sk-container-id-2 div.sk-parallel-item:only-child::after {width: 0;}#sk-container-id-2 div.sk-dashed-wrapped {border: 1px dashed gray;margin: 0 0.4em 0.5em 0.4em;box-sizing: border-box;padding-bottom: 0.4em;background-color: white;}#sk-container-id-2 div.sk-label label {font-family: monospace;font-weight: bold;display: inline-block;line-height: 1.2em;}#sk-container-id-2 div.sk-label-container {text-align: center;}#sk-container-id-2 div.sk-container {/* jupyter's `normalize.less` sets `[hidden] { display: none; }` but bootstrap.min.css set `[hidden] { display: none !important; }` so we also need the `!important` here to be able to override the default hidden behavior on the sphinx rendered scikit-learn.org. See: https://github.com/scikit-learn/scikit-learn/issues/21755 */display: inline-block !important;position: relative;}#sk-container-id-2 div.sk-text-repr-fallback {display: none;}</style><div id=\"sk-container-id-2\" class=\"sk-top-container\"><div class=\"sk-text-repr-fallback\"><pre>RandomForestClassifier(class_weight=&#x27;balanced&#x27;, max_depth=10, n_estimators=200,\n",
       "                       random_state=42)</pre><b>In a Jupyter environment, please rerun this cell to show the HTML representation or trust the notebook. <br />On GitHub, the HTML representation is unable to render, please try loading this page with nbviewer.org.</b></div><div class=\"sk-container\" hidden><div class=\"sk-item\"><div class=\"sk-estimator sk-toggleable\"><input class=\"sk-toggleable__control sk-hidden--visually\" id=\"sk-estimator-id-2\" type=\"checkbox\" checked><label for=\"sk-estimator-id-2\" class=\"sk-toggleable__label sk-toggleable__label-arrow\">RandomForestClassifier</label><div class=\"sk-toggleable__content\"><pre>RandomForestClassifier(class_weight=&#x27;balanced&#x27;, max_depth=10, n_estimators=200,\n",
       "                       random_state=42)</pre></div></div></div></div></div>"
      ],
      "text/plain": [
       "RandomForestClassifier(class_weight='balanced', max_depth=10, n_estimators=200,\n",
       "                       random_state=42)"
      ]
     },
     "execution_count": 13,
     "metadata": {},
     "output_type": "execute_result"
    }
   ],
   "source": [
    "# Retrain Random Forest on reduced features\n",
    "rf_model_retrained = RandomForestClassifier(n_estimators=200, max_depth=10, random_state=42, class_weight='balanced')\n",
    "rf_model_retrained.fit(X_train, y_train)\n"
   ]
  },
  {
   "cell_type": "code",
   "execution_count": 14,
   "id": "ce920ade",
   "metadata": {
    "execution": {
     "iopub.execute_input": "2025-07-30T13:55:42.271681Z",
     "iopub.status.busy": "2025-07-30T13:55:42.271404Z",
     "iopub.status.idle": "2025-07-30T13:55:42.347451Z",
     "shell.execute_reply": "2025-07-30T13:55:42.346633Z"
    },
    "papermill": {
     "duration": 0.083871,
     "end_time": "2025-07-30T13:55:42.349120",
     "exception": false,
     "start_time": "2025-07-30T13:55:42.265249",
     "status": "completed"
    },
    "tags": []
   },
   "outputs": [],
   "source": [
    "# Predict \n",
    "y_pred_rf = rf_model_retrained.predict(X_test)\n"
   ]
  },
  {
   "cell_type": "code",
   "execution_count": 15,
   "id": "c4a7530b",
   "metadata": {
    "execution": {
     "iopub.execute_input": "2025-07-30T13:55:42.360864Z",
     "iopub.status.busy": "2025-07-30T13:55:42.360525Z",
     "iopub.status.idle": "2025-07-30T13:55:42.381011Z",
     "shell.execute_reply": "2025-07-30T13:55:42.379829Z"
    },
    "papermill": {
     "duration": 0.02823,
     "end_time": "2025-07-30T13:55:42.382646",
     "exception": false,
     "start_time": "2025-07-30T13:55:42.354416",
     "status": "completed"
    },
    "tags": []
   },
   "outputs": [
    {
     "name": "stdout",
     "output_type": "stream",
     "text": [
      "=== Random Forest Evaluation ===\n",
      "Accuracy: 82.84818629646216\n",
      "\n",
      "Confusion Matrix:\n",
      " [[948 215]\n",
      " [168 902]]\n",
      "\n",
      "Classification Report:\n",
      "               precision    recall  f1-score   support\n",
      "\n",
      "       False       0.85      0.82      0.83      1163\n",
      "        True       0.81      0.84      0.82      1070\n",
      "\n",
      "    accuracy                           0.83      2233\n",
      "   macro avg       0.83      0.83      0.83      2233\n",
      "weighted avg       0.83      0.83      0.83      2233\n",
      "\n"
     ]
    }
   ],
   "source": [
    "#Evaluation \n",
    "print(\"=== Random Forest Evaluation ===\")\n",
    "print(\"Accuracy:\", accuracy_score(y_test, y_pred_rf) * 100)\n",
    "print(\"\\nConfusion Matrix:\\n\", confusion_matrix(y_test, y_pred_rf))\n",
    "print(\"\\nClassification Report:\\n\", classification_report(y_test, y_pred_rf))"
   ]
  }
 ],
 "metadata": {
  "kaggle": {
   "accelerator": "none",
   "dataSources": [
    {
     "datasetId": 7952990,
     "sourceId": 12591860,
     "sourceType": "datasetVersion"
    }
   ],
   "dockerImageVersionId": 31089,
   "isGpuEnabled": false,
   "isInternetEnabled": false,
   "language": "python",
   "sourceType": "notebook"
  },
  "kernelspec": {
   "display_name": "Python 3",
   "language": "python",
   "name": "python3"
  },
  "language_info": {
   "codemirror_mode": {
    "name": "ipython",
    "version": 3
   },
   "file_extension": ".py",
   "mimetype": "text/x-python",
   "name": "python",
   "nbconvert_exporter": "python",
   "pygments_lexer": "ipython3",
   "version": "3.11.13"
  },
  "papermill": {
   "default_parameters": {},
   "duration": 14.177715,
   "end_time": "2025-07-30T13:55:43.108510",
   "environment_variables": {},
   "exception": null,
   "input_path": "__notebook__.ipynb",
   "output_path": "__notebook__.ipynb",
   "parameters": {},
   "start_time": "2025-07-30T13:55:28.930795",
   "version": "2.6.0"
  }
 },
 "nbformat": 4,
 "nbformat_minor": 5
}
